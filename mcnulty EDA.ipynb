{
 "cells": [
  {
   "cell_type": "markdown",
   "metadata": {
    "collapsed": true
   },
   "source": [
    "# Exploratory Data Analysis - World Foods Dataset"
   ]
  },
  {
   "cell_type": "markdown",
   "metadata": {},
   "source": [
    "## Reading in the Data"
   ]
  },
  {
   "cell_type": "code",
   "execution_count": 18,
   "metadata": {
    "collapsed": true
   },
   "outputs": [],
   "source": [
    "import pandas as pd\n",
    "import numpy as np"
   ]
  },
  {
   "cell_type": "code",
   "execution_count": 19,
   "metadata": {
    "collapsed": true
   },
   "outputs": [],
   "source": [
    "food = pd.read_csv(\"en.openfoodfacts.org.products.tsv\", sep='\\t',low_memory=False)"
   ]
  },
  {
   "cell_type": "code",
   "execution_count": 20,
   "metadata": {},
   "outputs": [
    {
     "data": {
      "text/plain": [
       "(333824, 162)"
      ]
     },
     "execution_count": 20,
     "metadata": {},
     "output_type": "execute_result"
    }
   ],
   "source": [
    "food.shape"
   ]
  },
  {
   "cell_type": "code",
   "execution_count": 21,
   "metadata": {},
   "outputs": [
    {
     "data": {
      "text/plain": [
       "['code',\n",
       " 'url',\n",
       " 'creator',\n",
       " 'created_t',\n",
       " 'created_datetime',\n",
       " 'last_modified_t',\n",
       " 'last_modified_datetime',\n",
       " 'product_name',\n",
       " 'generic_name',\n",
       " 'quantity',\n",
       " 'packaging',\n",
       " 'packaging_tags',\n",
       " 'brands',\n",
       " 'brands_tags',\n",
       " 'categories',\n",
       " 'categories_tags',\n",
       " 'categories_en',\n",
       " 'origins',\n",
       " 'origins_tags',\n",
       " 'manufacturing_places',\n",
       " 'manufacturing_places_tags',\n",
       " 'labels',\n",
       " 'labels_tags',\n",
       " 'labels_en',\n",
       " 'emb_codes',\n",
       " 'emb_codes_tags',\n",
       " 'first_packaging_code_geo',\n",
       " 'cities',\n",
       " 'cities_tags',\n",
       " 'purchase_places',\n",
       " 'stores',\n",
       " 'countries',\n",
       " 'countries_tags',\n",
       " 'countries_en',\n",
       " 'ingredients_text',\n",
       " 'allergens',\n",
       " 'allergens_en',\n",
       " 'traces',\n",
       " 'traces_tags',\n",
       " 'traces_en',\n",
       " 'serving_size',\n",
       " 'no_nutriments',\n",
       " 'additives_n',\n",
       " 'additives',\n",
       " 'additives_tags',\n",
       " 'additives_en',\n",
       " 'ingredients_from_palm_oil_n',\n",
       " 'ingredients_from_palm_oil',\n",
       " 'ingredients_from_palm_oil_tags',\n",
       " 'ingredients_that_may_be_from_palm_oil_n',\n",
       " 'ingredients_that_may_be_from_palm_oil',\n",
       " 'ingredients_that_may_be_from_palm_oil_tags',\n",
       " 'nutrition_grade_uk',\n",
       " 'nutrition_grade_fr',\n",
       " 'pnns_groups_1',\n",
       " 'pnns_groups_2',\n",
       " 'states',\n",
       " 'states_tags',\n",
       " 'states_en',\n",
       " 'main_category',\n",
       " 'main_category_en',\n",
       " 'image_url',\n",
       " 'image_small_url',\n",
       " 'energy_100g',\n",
       " 'energy-from-fat_100g',\n",
       " 'fat_100g',\n",
       " 'saturated-fat_100g',\n",
       " '-butyric-acid_100g',\n",
       " '-caproic-acid_100g',\n",
       " '-caprylic-acid_100g',\n",
       " '-capric-acid_100g',\n",
       " '-lauric-acid_100g',\n",
       " '-myristic-acid_100g',\n",
       " '-palmitic-acid_100g',\n",
       " '-stearic-acid_100g',\n",
       " '-arachidic-acid_100g',\n",
       " '-behenic-acid_100g',\n",
       " '-lignoceric-acid_100g',\n",
       " '-cerotic-acid_100g',\n",
       " '-montanic-acid_100g',\n",
       " '-melissic-acid_100g',\n",
       " 'monounsaturated-fat_100g',\n",
       " 'polyunsaturated-fat_100g',\n",
       " 'omega-3-fat_100g',\n",
       " '-alpha-linolenic-acid_100g',\n",
       " '-eicosapentaenoic-acid_100g',\n",
       " '-docosahexaenoic-acid_100g',\n",
       " 'omega-6-fat_100g',\n",
       " '-linoleic-acid_100g',\n",
       " '-arachidonic-acid_100g',\n",
       " '-gamma-linolenic-acid_100g',\n",
       " '-dihomo-gamma-linolenic-acid_100g',\n",
       " 'omega-9-fat_100g',\n",
       " '-oleic-acid_100g',\n",
       " '-elaidic-acid_100g',\n",
       " '-gondoic-acid_100g',\n",
       " '-mead-acid_100g',\n",
       " '-erucic-acid_100g',\n",
       " '-nervonic-acid_100g',\n",
       " 'trans-fat_100g',\n",
       " 'cholesterol_100g',\n",
       " 'carbohydrates_100g',\n",
       " 'sugars_100g',\n",
       " '-sucrose_100g',\n",
       " '-glucose_100g',\n",
       " '-fructose_100g',\n",
       " '-lactose_100g',\n",
       " '-maltose_100g',\n",
       " '-maltodextrins_100g',\n",
       " 'starch_100g',\n",
       " 'polyols_100g',\n",
       " 'fiber_100g',\n",
       " 'proteins_100g',\n",
       " 'casein_100g',\n",
       " 'serum-proteins_100g',\n",
       " 'nucleotides_100g',\n",
       " 'salt_100g',\n",
       " 'sodium_100g',\n",
       " 'alcohol_100g',\n",
       " 'vitamin-a_100g',\n",
       " 'beta-carotene_100g',\n",
       " 'vitamin-d_100g',\n",
       " 'vitamin-e_100g',\n",
       " 'vitamin-k_100g',\n",
       " 'vitamin-c_100g',\n",
       " 'vitamin-b1_100g',\n",
       " 'vitamin-b2_100g',\n",
       " 'vitamin-pp_100g',\n",
       " 'vitamin-b6_100g',\n",
       " 'vitamin-b9_100g',\n",
       " 'folates_100g',\n",
       " 'vitamin-b12_100g',\n",
       " 'biotin_100g',\n",
       " 'pantothenic-acid_100g',\n",
       " 'silica_100g',\n",
       " 'bicarbonate_100g',\n",
       " 'potassium_100g',\n",
       " 'chloride_100g',\n",
       " 'calcium_100g',\n",
       " 'phosphorus_100g',\n",
       " 'iron_100g',\n",
       " 'magnesium_100g',\n",
       " 'zinc_100g',\n",
       " 'copper_100g',\n",
       " 'manganese_100g',\n",
       " 'fluoride_100g',\n",
       " 'selenium_100g',\n",
       " 'chromium_100g',\n",
       " 'molybdenum_100g',\n",
       " 'iodine_100g',\n",
       " 'caffeine_100g',\n",
       " 'taurine_100g',\n",
       " 'ph_100g',\n",
       " 'fruits-vegetables-nuts_100g',\n",
       " 'collagen-meat-protein-ratio_100g',\n",
       " 'cocoa_100g',\n",
       " 'chlorophyl_100g',\n",
       " 'carbon-footprint_100g',\n",
       " 'nutrition-score-fr_100g',\n",
       " 'nutrition-score-uk_100g',\n",
       " 'glycemic-index_100g',\n",
       " 'water-hardness_100g']"
      ]
     },
     "execution_count": 21,
     "metadata": {},
     "output_type": "execute_result"
    }
   ],
   "source": [
    "cols = list(food.columns)\n",
    "cols"
   ]
  },
  {
   "cell_type": "code",
   "execution_count": 22,
   "metadata": {},
   "outputs": [
    {
     "data": {
      "text/plain": [
       "last_modified_t                            333824\n",
       "last_modified_datetime                     333824\n",
       "creator                                    333822\n",
       "created_t                                  333821\n",
       "created_datetime                           333815\n",
       "code                                       333800\n",
       "url                                        333800\n",
       "states_en                                  333776\n",
       "states_tags                                333776\n",
       "states                                     333776\n",
       "countries_tags                             333559\n",
       "countries_en                               333559\n",
       "countries                                  333559\n",
       "product_name                               316169\n",
       "brands                                     304629\n",
       "brands_tags                                304617\n",
       "energy_100g                                272870\n",
       "proteins_100g                              271651\n",
       "salt_100g                                  267230\n",
       "sodium_100g                                267183\n",
       "ingredients_text                           260990\n",
       "additives_n                                260966\n",
       "ingredients_that_may_be_from_palm_oil_n    260966\n",
       "ingredients_from_palm_oil_n                260966\n",
       "additives                                  260929\n",
       "sugars_100g                                256687\n",
       "fat_100g                                   256087\n",
       "carbohydrates_100g                         255794\n",
       "saturated-fat_100g                         241295\n",
       "nutrition-score-uk_100g                    232859\n",
       "                                            ...  \n",
       "-oleic-acid_100g                               14\n",
       "-gondoic-acid_100g                             14\n",
       "molybdenum_100g                                13\n",
       "-maltodextrins_100g                            11\n",
       "nucleotides_100g                               10\n",
       "-arachidonic-acid_100g                          9\n",
       "-maltose_100g                                   5\n",
       "-lauric-acid_100g                               4\n",
       "-capric-acid_100g                               2\n",
       "-stearic-acid_100g                              1\n",
       "-palmitic-acid_100g                             1\n",
       "-myristic-acid_100g                             1\n",
       "-caprylic-acid_100g                             1\n",
       "-montanic-acid_100g                             1\n",
       "water-hardness_100g                             0\n",
       "no_nutriments                                   0\n",
       "ingredients_from_palm_oil                       0\n",
       "ingredients_that_may_be_from_palm_oil           0\n",
       "nutrition_grade_uk                              0\n",
       "-butyric-acid_100g                              0\n",
       "-caproic-acid_100g                              0\n",
       "-lignoceric-acid_100g                           0\n",
       "-cerotic-acid_100g                              0\n",
       "glycemic-index_100g                             0\n",
       "-elaidic-acid_100g                              0\n",
       "-mead-acid_100g                                 0\n",
       "-erucic-acid_100g                               0\n",
       "-nervonic-acid_100g                             0\n",
       "chlorophyl_100g                                 0\n",
       "-melissic-acid_100g                             0\n",
       "Length: 162, dtype: int64"
      ]
     },
     "execution_count": 22,
     "metadata": {},
     "output_type": "execute_result"
    }
   ],
   "source": [
    "food.count().sort_values(ascending = False)"
   ]
  },
  {
   "cell_type": "markdown",
   "metadata": {},
   "source": [
    "The data is very sparse and there are a lot of missing values.\n",
    "\n",
    "One thing to look at is the meaning of NaN - For example, not all foods have caffeine, so a NaN under caffeine may just mean that food does not have caffeine.\n",
    "\n",
    "Let's check against some known foods with caffeine."
   ]
  },
  {
   "cell_type": "code",
   "execution_count": 23,
   "metadata": {},
   "outputs": [
    {
     "data": {
      "text/plain": [
       "108670    Veggie-Go's, Tropikale Organic Chewy Fruit & V...\n",
       "118446                   Crispy cacao & cinnamon kale chips\n",
       "118447                   Crispy cacao & cinnamon kale chips\n",
       "124570                                           Green kale\n",
       "199947     Juice apple pineapple mango passion fruit & kale\n",
       "263787                                Jus kale-pomme-laitue\n",
       "267371    Rahm Gemüse rustikale Karotten mit Rosenkohl &...\n",
       "270681    Geschenkpackung Adventskalender Winterlandscha...\n",
       "303841                           Rustikales Filet-Pfännchen\n",
       "306927                                  Sweet potato & kale\n",
       "333461               Chewy Fruit & Veggie Snacks, Tropikale\n",
       "Name: product_name, dtype: object"
      ]
     },
     "execution_count": 23,
     "metadata": {},
     "output_type": "execute_result"
    }
   ],
   "source": [
    "foodnames = food.product_name.dropna()\n",
    "\n",
    "foodnames[foodnames.str.contains('kale')]"
   ]
  },
  {
   "cell_type": "code",
   "execution_count": 24,
   "metadata": {},
   "outputs": [
    {
     "data": {
      "text/plain": [
       "14056    NaN\n",
       "66044    NaN\n",
       "86084    NaN\n",
       "109446   NaN\n",
       "110074   NaN\n",
       "112282   NaN\n",
       "112854   NaN\n",
       "155749   NaN\n",
       "170699   NaN\n",
       "180321   NaN\n",
       "193046   NaN\n",
       "210244   NaN\n",
       "238047   NaN\n",
       "269676   NaN\n",
       "270929   NaN\n",
       "279192   NaN\n",
       "286994   NaN\n",
       "294225   NaN\n",
       "312181   NaN\n",
       "314591   NaN\n",
       "324653   NaN\n",
       "325175   NaN\n",
       "326239   NaN\n",
       "326241   NaN\n",
       "329232   NaN\n",
       "330466   NaN\n",
       "330592   NaN\n",
       "331770   NaN\n",
       "332284   NaN\n",
       "333163   NaN\n",
       "333600   NaN\n",
       "Name: caffeine_100g, dtype: float64"
      ]
     },
     "execution_count": 24,
     "metadata": {},
     "output_type": "execute_result"
    }
   ],
   "source": [
    "# Take 3 coffees\n",
    "coffees = foodnames[foodnames.str.contains('coffee')].index.values\n",
    "\n",
    "food.iloc[coffees]['caffeine_100g']"
   ]
  },
  {
   "cell_type": "markdown",
   "metadata": {},
   "source": [
    "This means that the data are generally incomplete, and that NaN should not be treated as a 0."
   ]
  },
  {
   "cell_type": "markdown",
   "metadata": {},
   "source": [
    "Some other difficulties with the data"
   ]
  },
  {
   "cell_type": "code",
   "execution_count": 25,
   "metadata": {},
   "outputs": [
    {
     "data": {
      "text/plain": [
       "119051                                      Seasoned Zhacai\n",
       "250594    Biscuiterie de Provence Petit Biscuits Voyageu...\n",
       "Name: product_name, dtype: object"
      ]
     },
     "execution_count": 25,
     "metadata": {},
     "output_type": "execute_result"
    }
   ],
   "source": [
    "foodnames[foodnames.str.contains('acai')]"
   ]
  },
  {
   "cell_type": "markdown",
   "metadata": {},
   "source": [
    "If the name of a food is contained in another food, it may show up. In this instance, acai is a 'superfood' from Brazil. But zhacai is a pickled Chinese vegetable."
   ]
  },
  {
   "cell_type": "markdown",
   "metadata": {},
   "source": [
    "Since this is a world food database, foods are in all different languages."
   ]
  },
  {
   "cell_type": "code",
   "execution_count": 26,
   "metadata": {},
   "outputs": [
    {
     "data": {
      "text/plain": [
       "0                Farine de blé noir\n",
       "1    Banana Chips Sweetened (Whole)\n",
       "2                           Peanuts\n",
       "3            Organic Salted Nut Mix\n",
       "4                   Organic Polenta\n",
       "Name: product_name, dtype: object"
      ]
     },
     "execution_count": 26,
     "metadata": {},
     "output_type": "execute_result"
    }
   ],
   "source": [
    "foodnames[foodnames.str.contains('')].head()"
   ]
  },
  {
   "cell_type": "markdown",
   "metadata": {},
   "source": [
    "Some foods use the same word, but they have different meanings. In British English a biscuit usually refers to what Americans consider a cookie, while American biscuits are more breadlike.\n",
    "\n",
    "A more extreme case is the same word in different languages. For example, in English, Paprika is a spice, but in German, paprika is the word for bell pepper."
   ]
  },
  {
   "cell_type": "code",
   "execution_count": 27,
   "metadata": {},
   "outputs": [
    {
     "data": {
      "text/plain": [
       "112278                                       smoked paprika\n",
       "113193                    Boulettes de bœuf oignons paprika\n",
       "115362                  Papillotes poulet paprika et tomate\n",
       "176608           Bœuf au paprika, rouleaux de riz et daïkon\n",
       "176609    Bœuf au paprika, daïkon, chou pak choï et caro...\n",
       "Name: product_name, dtype: object"
      ]
     },
     "execution_count": 27,
     "metadata": {},
     "output_type": "execute_result"
    }
   ],
   "source": [
    "foodnames[foodnames.str.contains('paprika')].head()"
   ]
  },
  {
   "cell_type": "code",
   "execution_count": 28,
   "metadata": {
    "collapsed": true
   },
   "outputs": [],
   "source": [
    "def display(i):\n",
    "    print(cols[i], i, food[cols[i]].count())"
   ]
  },
  {
   "cell_type": "code",
   "execution_count": 29,
   "metadata": {},
   "outputs": [
    {
     "name": "stdout",
     "output_type": "stream",
     "text": [
      "taurine_100g 151 31\n"
     ]
    }
   ],
   "source": [
    "display(151)"
   ]
  },
  {
   "cell_type": "markdown",
   "metadata": {},
   "source": [
    "Some columns that would be of interest\n",
    "product_name, index = 7, count = 316169: Product Name, in language, \n",
    "generic_name, index = 8, count = 55063: Sometimes a translation for the product\n",
    "quantity, index = 9, count = 110551, weight\n",
    "categories_en, index = 16, count = 90786: Tags of what the food is, separated by commas\n",
    "labels_en, index = 23, count = 51157: Certain features of the food, like vegetarian, gluten-free, etc.,\n",
    "countries_en, index = 33, count = 333559: Country of Origin\n",
    "ingredients_text, index = 34, count = 260990: Ingredients in the food, separated by commas, in native language\n",
    "traces_en, index = 39, count = 25876: Ingredients it contains traces of, in English\n",
    "serving_size, index = 40, count = 213266: Serving Size\n",
    "additives_n, index = 42, count = 260966: Perhaps some additive value\n",
    "additives, index = 43, count = 260929: Shows additives (?) seems like foods\n",
    "additives_en, index = 45, count = 159101: Shows chemical additives of foods\n",
    "ingredients_from_palm_oil_n, index = 46, count = 260966\n",
    "nutrition_grade_fr, index = 53, count = 232858: Some French nutrition grade\n",
    "pnns_groups_1, index = 54, count = 104284: Food under certain categories - sugar snacks, fish meat eggs, beverages, etc.,\n",
    "pnns_groups_2, index = 55, count = 107472: Usually a further clarification of groups_1\n",
    "main_category_en, index = 60, count = 90740: Sometimes less clear than pnns_groups_2\n",
    "\n",
    "## energy_100g, index = 63, count = 272870: calories\n",
    "energy-from-fat_100g, index = 64, count = 858: cals from fat\n",
    "## fat_100g, index = 65, count = 256087: fat\n",
    "## saturated-fat_100g 66 241295\n",
    "## monounsaturated-fat_100g 81 22893\n",
    "## polyunsaturated-fat_100g 82 22926\n",
    "omega-3-fat_100g 83 869\n",
    "trans-fat_100g 99 143328\n",
    "cholesterol_100g 100 144100\n",
    "## carbohydrates_100g 101 255794\n",
    "## sugars_100g 102 256687\n",
    "## fiber_100g 111 207889\n",
    "## proteins_100g 112 271651\n",
    "## salt_100g 116 267230\n",
    "## sodium_100g 117 267183\n",
    "alcohol_100g 118 4165\n",
    "vitamin-a_100g 119 137592\n",
    "vitamin-d_100g 121 7102\n",
    "vitamin-e_100g 122 1378\n",
    "vitamin-k_100g 123 921\n",
    "vitamin-c_100g 124 140928\n",
    "vitamin-b1_100g 125 11194\n",
    "vitamin-b2_100g 126 10859\n",
    "vitamin-pp_100g 127 11764\n",
    "vitamin-b6_100g 128 6821\n",
    "vitamin-b9_100g 129 5265\n",
    "folates_100g 130 3045\n",
    "vitamin-b12_100g 131 5336\n",
    "pantothenic-acid_100g 133 2504\n",
    "potassium_100g 136 24781\n",
    "calcium_100g 138 141196\n",
    "phosphorus_100g 139 5875\n",
    "iron_100g 140 140522\n",
    "magnesium_100g 141 6301\n",
    "zinc_100g 142 3941\n",
    "copper_100g 143 2112\n",
    "manganese_100g 144 1626\n",
    "selenium_100g 146 1171\n",
    "fruits-vegetables-nuts_100g 153 3155\n",
    "cocoa_100g 155 1009\n",
    "## nutrition-score-fr_100g 158 232859\n",
    "## nutrition-score-uk_100g 159 232859\n",
    "\n",
    "biotin_100g 132 336"
   ]
  },
  {
   "cell_type": "code",
   "execution_count": 30,
   "metadata": {},
   "outputs": [
    {
     "ename": "SyntaxError",
     "evalue": "invalid syntax (<ipython-input-30-7328dc65c4c9>, line 1)",
     "output_type": "error",
     "traceback": [
      "\u001b[0;36m  File \u001b[0;32m\"<ipython-input-30-7328dc65c4c9>\"\u001b[0;36m, line \u001b[0;32m1\u001b[0m\n\u001b[0;31m    -alpha-linolenic-acid_100g 84 189\u001b[0m\n\u001b[0m                                ^\u001b[0m\n\u001b[0;31mSyntaxError\u001b[0m\u001b[0;31m:\u001b[0m invalid syntax\n"
     ]
    }
   ],
   "source": [
    "-alpha-linolenic-acid_100g 84 189\n",
    "omega-6-fat_100g 87 192\n",
    "-linoleic-acid_100g 88 154\n",
    "-lactose_100g 106 266\n",
    "starch_100g 109 275\n",
    "polyols_100g 110 431\n",
    "\n",
    "chloride_100g 137 167\n",
    "iodine_100g 149 271"
   ]
  },
  {
   "cell_type": "code",
   "execution_count": null,
   "metadata": {
    "collapsed": true
   },
   "outputs": [],
   "source": [
    "food2 = food[np.isfinite(food['energy_100g'])]\n",
    "food2 = food2[np.isfinite(food2['fat_100g'])]\n",
    "food2 = food2[np.isfinite(food2['saturated-fat_100g'])]\n",
    "food2 = food2[np.isfinite(food2['monounsaturated-fat_100g'])]\n",
    "food2 = food2[np.isfinite(food2['polyunsaturated-fat_100g'])]\n",
    "food2 = food2[np.isfinite(food2['carbohydrates_100g'])]\n",
    "food2 = food2[np.isfinite(food2['sugars_100g'])]\n",
    "food2 = food2[np.isfinite(food2['fiber_100g'])]\n",
    "food2 = food2[np.isfinite(food2['proteins_100g'])]\n",
    "food2 = food2[np.isfinite(food2['sodium_100g'])]\n"
   ]
  },
  {
   "cell_type": "code",
   "execution_count": null,
   "metadata": {
    "collapsed": true
   },
   "outputs": [],
   "source": [
    "dff = food2[['product_name', 'generic_name', 'countries_en', 'energy_100g', \n",
    "       'fat_100g', 'saturated-fat_100g', 'monounsaturated-fat_100g', 'polyunsaturated-fat_100g',\n",
    "       'carbohydrates_100g', 'sugars_100g', 'fiber_100g', 'proteins_100g', 'sodium_100g', 'salt_100g',\n",
    "       'ingredients_from_palm_oil_n', 'cholesterol_100g', 'trans-fat_100g', 'iron_100g', 'calcium_100g',\n",
    "       'vitamin-a_100g', 'vitamin-c_100g', 'potassium_100g', 'vitamin-pp_100g', 'vitamin-b2_100g',\n",
    "       'vitamin-b1_100g', 'vitamin-b9_100g', 'vitamin-b6_100g', 'phosphorus_100g', 'magnesium_100g',\n",
    "       'vitamin-d_100g', 'vitamin-b12_100g', 'zinc_100g']]\n",
    "\n",
    "dff['product_name'] = dff['product_name'].str.lower()"
   ]
  },
  {
   "cell_type": "code",
   "execution_count": null,
   "metadata": {
    "collapsed": true
   },
   "outputs": [],
   "source": [
    "dff.shape"
   ]
  },
  {
   "cell_type": "code",
   "execution_count": null,
   "metadata": {
    "collapsed": true
   },
   "outputs": [],
   "source": [
    "dff.median()"
   ]
  },
  {
   "cell_type": "code",
   "execution_count": null,
   "metadata": {
    "collapsed": true
   },
   "outputs": [],
   "source": [
    "dff.mean()"
   ]
  },
  {
   "cell_type": "code",
   "execution_count": null,
   "metadata": {
    "collapsed": true
   },
   "outputs": [],
   "source": [
    "dff['product_name']"
   ]
  },
  {
   "cell_type": "code",
   "execution_count": null,
   "metadata": {
    "collapsed": true,
    "scrolled": true
   },
   "outputs": [],
   "source": [
    "foodnames2[foodnames2.str.contains('Green Tea')]"
   ]
  },
  {
   "cell_type": "code",
   "execution_count": null,
   "metadata": {
    "collapsed": true
   },
   "outputs": [],
   "source": [
    "dff = dff[pd.notnull(dff['product_name'])]"
   ]
  },
  {
   "cell_type": "code",
   "execution_count": null,
   "metadata": {
    "collapsed": true
   },
   "outputs": [],
   "source": [
    "dff['healthy'] = 0"
   ]
  },
  {
   "cell_type": "markdown",
   "metadata": {},
   "source": [
    "# Healthy Food List + 'Superfoods'\n",
    "\n",
    "Done\n",
    "'berr'\n",
    "kiwi\n",
    "apple\n",
    "pineapple\n",
    "mango\n",
    "lemon\n",
    "lime\n",
    "orange\n",
    "banana\n",
    "watermelon\n",
    "coconut\n",
    "ginger\n",
    "\n",
    "green tea\n",
    "\n",
    "tomato\n",
    "spinach\n",
    "kale\n",
    "artichoke\n",
    "mushroom\n",
    "broccoli\n",
    "asparagus\n",
    "beet\n",
    "pepper\n",
    "chard\n",
    "\n",
    "\n",
    "\n",
    "\n",
    "\n",
    "acai\n",
    "quinoa\n",
    "flax\n",
    "chia\n",
    "avocado\n",
    "bok choy\n",
    "#oat\n",
    "salmon\n",
    "edamame\n",
    "lentil\n",
    "greek yogurt\n",
    "kefir\n",
    "barley\n",
    "egg\n",
    "pistachio\n",
    "almond\n",
    "ginger\n",
    "bean\n",
    "pumpkin\n",
    "garlic\n",
    "cauliflower\n",
    "hemp\n",
    "wheatgrass\n",
    "walnut\n",
    "turkey\n",
    "herring\n",
    "sardine\n",
    "mackerel\n",
    "soy\n",
    "barley\n",
    "brazil nut\n",
    "seaweed\n",
    "goji\n",
    "sauerkraut\n",
    "cherr\n",
    "spirulina\n",
    "parsley\n",
    "dark chocolate\n",
    "olive oil\n",
    "grapefruit\n",
    "carrot\n",
    "cilantro\n",
    "brussels sprout\n",
    "buckwheat\n",
    "onion\n",
    "honey\n",
    "sweet potato\n",
    "turmeric\n",
    "apricot\n",
    "pumpkin\n",
    "\n",
    "sprout\n",
    "\n",
    "Not in data\n",
    "papaya"
   ]
  },
  {
   "cell_type": "code",
   "execution_count": null,
   "metadata": {
    "collapsed": true
   },
   "outputs": [],
   "source": [
    "dff"
   ]
  },
  {
   "cell_type": "code",
   "execution_count": null,
   "metadata": {
    "collapsed": true
   },
   "outputs": [],
   "source": [
    "# clean out the sweet fruits\n",
    "\n",
    "dff.loc[(dff.product_name.str.contains('berr') | dff.product_name.str.contains('kiwi')\n",
    "      | dff.product_name.str.contains('mango') | dff.product_name.str.contains('pineapple')\n",
    "      | dff.product_name.str.contains('orange') | dff.product_name.str.contains('banana')\n",
    "      | dff.product_name.str.contains('watermelon') | dff.product_name.str.contains('coconut')\n",
    "      | dff.product_name.str.contains('ginger') | dff.product_name.str.contains('pomegranate')  \n",
    "      | dff.product_name.str.contains('cherr') | dff.product_name.str.contains('apricot') \n",
    "      | dff.product_name.str.contains('grapefruit') | dff.product_name.str.contains('acai')\n",
    "            ) &\n",
    "        \n",
    "    (~dff.product_name.str.contains('muffin')\n",
    "    & ~dff.product_name.str.contains('cake') & ~dff.product_name.str.contains('waffle')\n",
    "    & ~dff.product_name.str.contains('biscuit') & ~dff.product_name.str.contains('bagel')\n",
    "    & ~dff.product_name.str.contains('scone') & ~dff.product_name.str.contains('pie')\n",
    "    & ~dff.product_name.str.contains('sugar') & ~dff.product_name.str.contains('wafer')\n",
    "    & ~dff.product_name.str.contains('donut') & ~dff.product_name.str.contains('strudel')\n",
    "    & ~dff.product_name.str.contains('cream') & ~dff.product_name.str.contains('pastries')\n",
    "    & ~dff.product_name.str.contains('cookie') & ~dff.product_name.str.contains('kake')\n",
    "    & ~dff.product_name.str.contains('candy') & ~dff.product_name.str.contains('tart')\n",
    "    & ~dff.product_name.str.contains('dessert') & ~dff.product_name.str.contains('jam')\n",
    "    & ~dff.product_name.str.contains('icee') & ~dff.product_name.str.contains('drink mix')\n",
    "    & ~dff.product_name.str.contains('peanut butter') & ~dff.product_name.str.contains('granola')\n",
    "    & ~dff.product_name.str.contains('danish') & ~dff.product_name.str.contains('sweetened')\n",
    "    & ~dff.product_name.str.contains('pudding') & ~dff.product_name.str.contains('bread')\n",
    "    & ~dff.product_name.str.contains('cereal') & ~dff.product_name.str.contains('trail mix')\n",
    "    & ~dff.product_name.str.contains('vinaigrette') & ~dff.product_name.str.contains('bars')\n",
    "    & ~dff.product_name.str.contains('bar') & ~dff.product_name.str.contains('dressing')\n",
    "    & ~dff.product_name.str.contains('pretzels') & ~dff.product_name.str.contains('flakes')\n",
    "    & ~dff.product_name.str.contains('macaron') & ~dff.product_name.str.contains('macaroon')               \n",
    "    & ~dff.product_name.str.contains('crunch') & ~dff.product_name.str.contains('bun')\n",
    "    & ~dff.product_name.str.contains('lollipop') & ~dff.product_name.str.contains('syrup')\n",
    "    & ~dff.product_name.str.contains('preserve') & ~dff.product_name.str.contains('nectar')\n",
    "    & ~dff.product_name.str.contains('pastry') & ~dff.product_name.str.contains('spread')  \n",
    "    & ~dff.product_name.str.contains('bites') & ~dff.product_name.str.contains('crisp')   \n",
    "    & ~dff.product_name.str.contains('chip') & ~dff.product_name.str.contains('candied') \n",
    "    & ~dff.product_name.str.contains('milk chocolate') & ~dff.product_name.str.contains('fruit snacks')\n",
    "    & ~dff.product_name.str.contains('roll') & ~dff.product_name.str.contains('crumbler')\n",
    "    & ~dff.product_name.str.contains('sorbetto') & ~dff.product_name.str.contains('juice')     \n",
    "    & ~dff.product_name.str.contains('snaks') & ~dff.product_name.str.contains('vinegar')\n",
    "    & ~dff.product_name.str.contains('white chocolate') & ~dff.product_name.str.contains('rings')\n",
    "    & ~dff.product_name.str.contains('drink') & ~dff.product_name.str.contains('pop')\n",
    "    & ~dff.product_name.str.contains('smoothie') & ~dff.product_name.str.contains('special k')\n",
    "    & ~dff.product_name.str.contains('snack') & ~dff.product_name.str.contains('snap')\n",
    "    & ~dff.product_name.str.contains('delight') & ~dff.product_name.str.contains('soup')\n",
    "    & ~dff.product_name.str.contains('twist') & ~dff.product_name.str.contains('crumble')\n",
    "    & ~dff.product_name.str.contains('maraschino') & ~dff.product_name.str.contains('marmalade')\n",
    "    & ~dff.product_name.str.contains('square')\n",
    "                                     \n",
    "                                    )\n",
    "        , 'healthy'] = 1\n",
    "\n",
    "# clean out veggies\n",
    "dff.loc[(dff.product_name.str.contains('tomato') | dff.product_name.str.contains('spinach')\n",
    "    | dff.product_name.str.contains('kale') | dff.product_name.str.contains('carrot')\n",
    "    | dff.product_name.str.contains('artichoke') | dff.product_name.str.contains('mushroom')        \n",
    "    | dff.product_name.str.contains('broccoli') | dff.product_name.str.contains('chard') \n",
    "    | dff.product_name.str.contains('asparagus') | dff.product_name.str.contains('beet')\n",
    "    | dff.product_name.str.contains('pepper') | dff.product_name.str.contains('chard')\n",
    "    | dff.product_name.str.contains('edamame') | dff.product_name.str.contains('pumpkin')\n",
    "    | dff.product_name.str.contains('cauliflower') | dff.product_name.str.contains('chard')\n",
    "    | dff.product_name.str.contains('cilantro') | dff.product_name.str.contains('sweet potato')         \n",
    "    | dff.product_name.str.contains('pumpkin') | dff.product_name.str.contains('sprout')\n",
    "    | dff.product_name.str.contains('onion') | dff.product_name.str.contains('garlic') \n",
    "    | dff.product_name.str.contains('sauerkraut') \n",
    "             \n",
    "            )\n",
    "    &\n",
    "    (~dff.product_name.str.contains('juice') & ~dff.product_name.str.contains('chip')\n",
    "    & ~dff.product_name.str.contains('ravioli') & ~dff.product_name.str.contains('cake')\n",
    "    & ~dff.product_name.str.contains('soup') & ~dff.product_name.str.contains('pasta')\n",
    "    & ~dff.product_name.str.contains('fettucine') & ~dff.product_name.str.contains('cream')\n",
    "    & ~dff.product_name.str.contains('sauce') & ~dff.product_name.str.contains('penne')\n",
    "    & ~dff.product_name.str.contains('wrap') & ~dff.product_name.str.contains('ketchup')\n",
    "    & ~dff.product_name.str.contains('puff') & ~dff.product_name.str.contains('sausage')\n",
    "    & ~dff.product_name.str.contains('pizza') & ~dff.product_name.str.contains('popcorn')\n",
    "    & ~dff.product_name.str.contains('cookie') & ~dff.product_name.str.contains('wafer')\n",
    "    & ~dff.product_name.str.contains('ring') & ~dff.product_name.str.contains('frie')\n",
    "    & ~dff.product_name.str.contains('pretzel') & ~dff.product_name.str.contains('crisp')\n",
    "    & ~dff.product_name.str.contains('bar') & ~dff.product_name.str.contains('stick')\n",
    "    & ~dff.product_name.str.contains('cocktail') & ~dff.product_name.str.contains('cracker')\n",
    "    & ~dff.product_name.str.contains('dressing') & ~dff.product_name.str.contains('bite')\n",
    "    & ~dff.product_name.str.contains('bread') & ~dff.product_name.str.contains('rind')\n",
    "    & ~dff.product_name.str.contains('toast') & ~dff.product_name.str.contains('granola')\n",
    "    & ~dff.product_name.str.contains('tortilla') & ~dff.product_name.str.contains('dip')\n",
    "    & ~dff.product_name.str.contains('patties') & ~dff.product_name.str.contains('patty')\n",
    "    & ~dff.product_name.str.contains('roll') & ~dff.product_name.str.contains('muffin')\n",
    "    & ~dff.product_name.str.contains('salsa') & ~dff.product_name.str.contains('loaf')\n",
    "    & ~dff.product_name.str.contains('snack') & ~dff.product_name.str.contains('bagel')\n",
    "    & ~dff.product_name.str.contains('flour') & ~dff.product_name.str.contains('bun')\n",
    "    & ~dff.product_name.str.contains('fudge') & ~dff.product_name.str.contains('brownie')\n",
    "    & ~dff.product_name.str.contains('candy') & ~dff.product_name.str.contains('paste')\n",
    "    & ~dff.product_name.str.contains('knot') & ~dff.product_name.str.contains('naan')\n",
    "    & ~dff.product_name.str.contains('seasoning') & ~dff.product_name.str.contains('macaroni')\n",
    "    & ~dff.product_name.str.contains('creme') & ~dff.product_name.str.contains('trail mix')\n",
    "    & ~dff.product_name.str.contains('baguette') & ~dff.product_name.str.contains('donut')\n",
    "    & ~dff.product_name.str.contains('chocolate') & ~dff.product_name.str.contains('cheese')\n",
    "    & ~dff.product_name.str.contains('burger') & ~dff.product_name.str.contains('pie')\n",
    "    & ~dff.product_name.str.contains('risotto') & ~dff.product_name.str.contains('sandwich')\n",
    "    ), 'healthy'] = 1\n",
    "\n",
    "# fruits with savory potential\n",
    "dff.loc[(dff.product_name.str.contains('lemon') | dff.product_name.str.contains('lime')\n",
    "    | dff.product_name.str.contains('apple') | dff.product_name.str.contains('avocado') )\n",
    "    &\n",
    "    (~dff.product_name.str.contains('cookie') & ~dff.product_name.str.contains('cake')\n",
    "    & ~dff.product_name.str.contains('chip') & ~dff.product_name.str.contains('noodle soup')\n",
    "    & ~dff.product_name.str.contains('dessert') & ~dff.product_name.str.contains('drink mix')\n",
    "    & ~dff.product_name.str.contains('pie') & ~dff.product_name.str.contains('ice cream')\n",
    "    & ~dff.product_name.str.contains('kake') & ~dff.product_name.str.contains('wafer')\n",
    "    & ~dff.product_name.str.contains('ramen') & ~dff.product_name.str.contains('drop')\n",
    "    & ~dff.product_name.str.contains('macaroon') & ~dff.product_name.str.contains('macaron')\n",
    "    & ~dff.product_name.str.contains('tart') & ~dff.product_name.str.contains('lemonade')  \n",
    "    & ~dff.product_name.str.contains('vinaigrette') & ~dff.product_name.str.contains('salsa')\n",
    "    & ~dff.product_name.str.contains('cereal') & ~dff.product_name.str.contains('snack')\n",
    "    & ~dff.product_name.str.contains('bagel') & ~dff.product_name.str.contains('sausage')\n",
    "    & ~dff.product_name.str.contains('bacon') & ~dff.product_name.str.contains('bar')\n",
    "    & ~dff.product_name.str.contains('crisp') & ~dff.product_name.str.contains('nectar')\n",
    "    & ~dff.product_name.str.contains('danish') & ~dff.product_name.str.contains('streusel')\n",
    "    & ~dff.product_name.str.contains('crunch') & ~dff.product_name.str.contains('dressing')        \n",
    "    & ~dff.product_name.str.contains('granola') & ~dff.product_name.str.contains('roll')\n",
    "    & ~dff.product_name.str.contains('milk chocolate') & ~dff.product_name.str.contains('donut')\n",
    "    & ~dff.product_name.str.contains('taco') & ~dff.product_name.str.contains('cracker')\n",
    "    & ~dff.product_name.str.contains('pretzel') & ~dff.product_name.str.contains('thin')\n",
    "    & ~dff.product_name.str.contains('flour') & ~dff.product_name.str.contains('bread')\n",
    "    & ~dff.product_name.str.contains('smoothie') & ~dff.product_name.str.contains('juice')\n",
    "    & ~dff.product_name.str.contains('sauce') & ~dff.product_name.str.contains('cobbler')\n",
    "    & ~dff.product_name.str.contains('pasta')      \n",
    "                                     \n",
    "                                    )            , 'healthy'] = 1\n",
    "\n",
    "dff.loc[dff.product_name.str.contains('green tea') , 'healthy'] = 1\n",
    "\n",
    "dff.loc[(dff.product_name.str.contains('seaweed')) & (~dff.product_name.str.contains('crackers'))\n",
    "            , 'healthy'] = 1\n",
    "\n",
    "# Proteins\n",
    "\n",
    "dff.loc[(dff.product_name.str.contains('salmon') | dff.product_name.str.contains('turkey')\n",
    "    | dff.product_name.str.contains('herring') | dff.product_name.str.contains('sardine')\n",
    "    | dff.product_name.str.contains('mackerel') | dff.product_name.str.contains('egg')                     \n",
    "            )\n",
    "    &\n",
    "    (~dff.product_name.str.contains('chip') & ~dff.product_name.str.contains('dip')\n",
    "     & ~dff.product_name.str.contains('candied') & ~dff.product_name.str.contains('noodle')\n",
    "     & ~dff.product_name.str.contains('veggie') & ~dff.product_name.str.contains('chiips')\n",
    "     & ~dff.product_name.str.contains('croissant') & ~dff.product_name.str.contains('sandwich')\n",
    "     & ~dff.product_name.str.contains('fettucine') & ~dff.product_name.str.contains('sausage')\n",
    "     & ~dff.product_name.str.contains('wrap') & ~dff.product_name.str.contains('stuffing')\n",
    "     & ~dff.product_name.str.contains('fettucine') & ~dff.product_name.str.contains('sausage')\n",
    "     & ~dff.product_name.str.contains('pasta') & ~dff.product_name.str.contains('macaroni')\n",
    "     & ~dff.product_name.str.contains('salad') & ~dff.product_name.str.contains('bun')\n",
    "     & ~dff.product_name.str.contains('gravy') & ~dff.product_name.str.contains('bologna')\n",
    "     & ~dff.product_name.str.contains('bacon') & ~dff.product_name.str.contains('ham')\n",
    "     & ~dff.product_name.str.contains('sauce') & ~dff.product_name.str.contains('cream')\n",
    "    ), 'healthy'] = 1\n",
    "\n",
    "# Everything else\n",
    "\n",
    "dff.loc[(dff.product_name.str.contains('quinoa') | dff.product_name.str.contains('flax')\n",
    "    | dff.product_name.str.contains('chia') | dff.product_name.str.contains('oat')\n",
    "    | dff.product_name.str.contains('lentil') | dff.product_name.str.contains('greek yogurt')\n",
    "    | dff.product_name.str.contains('barley') | dff.product_name.str.contains('pistachio') \n",
    "    | dff.product_name.str.contains('almond') | dff.product_name.str.contains('bean') \n",
    "    | dff.product_name.str.contains('hemp') | dff.product_name.str.contains('walnut')\n",
    "    | dff.product_name.str.contains('soy') | dff.product_name.str.contains('brazil nut') \n",
    "    | dff.product_name.str.contains('goji') | dff.product_name.str.contains('dark chocolate')\n",
    "    | dff.product_name.str.contains('olive oil') | dff.product_name.str.contains('buckwheat') \n",
    "    | dff.product_name.str.contains('turmeric')\n",
    "            )\n",
    "    &\n",
    "    (~dff.product_name.str.contains('cheerios') & ~dff.product_name.str.contains('patties')\n",
    "     & ~dff.product_name.str.contains('graham') & ~dff.product_name.str.contains('cereal')\n",
    "     & ~dff.product_name.str.contains('marshmallow') & ~dff.product_name.str.contains('cookie')\n",
    "     & ~dff.product_name.str.contains('creamer') & ~dff.product_name.str.contains('bar')\n",
    "     & ~dff.product_name.str.contains('trail mix') & ~dff.product_name.str.contains('fudge')\n",
    "     & ~dff.product_name.str.contains('pretzel') & ~dff.product_name.str.contains('cake')\n",
    "     & ~dff.product_name.str.contains('bread') & ~dff.product_name.str.contains('chips')\n",
    "     & ~dff.product_name.str.contains('muffin') & ~dff.product_name.str.contains('granola')\n",
    "     & ~dff.product_name.str.contains('bun') & ~dff.product_name.str.contains('sauce')\n",
    "     & ~dff.product_name.str.contains('sugar') & ~dff.product_name.str.contains('fried')\n",
    "     & ~dff.product_name.str.contains('muffin') & ~dff.product_name.str.contains('granola')\n",
    "     & ~dff.product_name.str.contains('ice cream') & ~dff.product_name.str.contains('square')\n",
    "     & ~dff.product_name.str.contains('dressing') & ~dff.product_name.str.contains('waffle')\n",
    "     & ~dff.product_name.str.contains('mayo') & ~dff.product_name.str.contains('vanilla')\n",
    "     & ~dff.product_name.str.contains('ice cream') & ~dff.product_name.str.contains('square')\n",
    "     & ~dff.product_name.str.contains('bacon') & ~dff.product_name.str.contains('honey')\n",
    "     & ~dff.product_name.str.contains('baked bean') & ~dff.product_name.str.contains('burger')\n",
    "     & ~dff.product_name.str.contains('creme') & ~dff.product_name.str.contains('gelato')\n",
    "     & ~dff.product_name.str.contains('cracker') & ~dff.product_name.str.contains('cobbler')\n",
    "     & ~dff.product_name.str.contains('roll') & ~dff.product_name.str.contains('biscuit')\n",
    "     & ~dff.product_name.str.contains('pudding') & ~dff.product_name.str.contains('pie')\n",
    "     & ~dff.product_name.str.contains('candy') & ~dff.product_name.str.contains('tequila')\n",
    "     & ~dff.product_name.str.contains('biscotti') & ~dff.product_name.str.contains('brownie')\n",
    "     & ~dff.product_name.str.contains('ice cream') & ~dff.product_name.str.contains('scone')\n",
    "     & ~dff.product_name.str.contains('caramel') & ~dff.product_name.str.contains('dip')\n",
    "    ), 'healthy'] = 1"
   ]
  },
  {
   "cell_type": "code",
   "execution_count": null,
   "metadata": {
    "collapsed": true
   },
   "outputs": [],
   "source": [
    "set(dff.loc[(dff.product_name.str.contains('berr') | dff.product_name.str.contains('kiwi')\n",
    "      | dff.product_name.str.contains('mango') | dff.product_name.str.contains('pineapple')\n",
    "      | dff.product_name.str.contains('orange') | dff.product_name.str.contains('banana')\n",
    "      | dff.product_name.str.contains('watermelon') | dff.product_name.str.contains('coconut')\n",
    "      | dff.product_name.str.contains('ginger') | dff.product_name.str.contains('pomegranate')  \n",
    "      | dff.product_name.str.contains('cherr') | dff.product_name.str.contains('apricot') \n",
    "      | dff.product_name.str.contains('grapefruit') | dff.product_name.str.contains('acai')\n",
    "            ) &\n",
    "        \n",
    "    (~dff.product_name.str.contains('muffin')\n",
    "    & ~dff.product_name.str.contains('cake') & ~dff.product_name.str.contains('waffle')\n",
    "    & ~dff.product_name.str.contains('biscuit') & ~dff.product_name.str.contains('bagel')\n",
    "    & ~dff.product_name.str.contains('scone') & ~dff.product_name.str.contains('pie')\n",
    "    & ~dff.product_name.str.contains('sugar') & ~dff.product_name.str.contains('wafer')\n",
    "    & ~dff.product_name.str.contains('donut') & ~dff.product_name.str.contains('strudel')\n",
    "    & ~dff.product_name.str.contains('cream') & ~dff.product_name.str.contains('pastries')\n",
    "    & ~dff.product_name.str.contains('cookie') & ~dff.product_name.str.contains('kake')\n",
    "    & ~dff.product_name.str.contains('candy') & ~dff.product_name.str.contains('tart')\n",
    "    & ~dff.product_name.str.contains('dessert') & ~dff.product_name.str.contains('jam')\n",
    "    & ~dff.product_name.str.contains('icee') & ~dff.product_name.str.contains('drink mix')\n",
    "    & ~dff.product_name.str.contains('peanut butter') & ~dff.product_name.str.contains('granola')\n",
    "    & ~dff.product_name.str.contains('danish') & ~dff.product_name.str.contains('sweetened')\n",
    "    & ~dff.product_name.str.contains('pudding') & ~dff.product_name.str.contains('bread')\n",
    "    & ~dff.product_name.str.contains('cereal') & ~dff.product_name.str.contains('trail mix')\n",
    "    & ~dff.product_name.str.contains('vinaigrette') & ~dff.product_name.str.contains('bars')\n",
    "    & ~dff.product_name.str.contains('bar') & ~dff.product_name.str.contains('dressing')\n",
    "    & ~dff.product_name.str.contains('pretzels') & ~dff.product_name.str.contains('flakes')\n",
    "    & ~dff.product_name.str.contains('macaron') & ~dff.product_name.str.contains('macaroon')               \n",
    "    & ~dff.product_name.str.contains('crunch') & ~dff.product_name.str.contains('bun')\n",
    "    & ~dff.product_name.str.contains('lollipop') & ~dff.product_name.str.contains('syrup')\n",
    "    & ~dff.product_name.str.contains('preserve') & ~dff.product_name.str.contains('nectar')\n",
    "    & ~dff.product_name.str.contains('pastry') & ~dff.product_name.str.contains('spread')  \n",
    "    & ~dff.product_name.str.contains('bites') & ~dff.product_name.str.contains('crisp')   \n",
    "    & ~dff.product_name.str.contains('chip') & ~dff.product_name.str.contains('candied') \n",
    "    & ~dff.product_name.str.contains('milk chocolate') & ~dff.product_name.str.contains('fruit snacks')\n",
    "    & ~dff.product_name.str.contains('roll') & ~dff.product_name.str.contains('crumbler')\n",
    "    & ~dff.product_name.str.contains('sorbetto') & ~dff.product_name.str.contains('juice')     \n",
    "    & ~dff.product_name.str.contains('snaks') & ~dff.product_name.str.contains('vinegar')\n",
    "    & ~dff.product_name.str.contains('white chocolate') & ~dff.product_name.str.contains('rings')\n",
    "    & ~dff.product_name.str.contains('drink') & ~dff.product_name.str.contains('pop')\n",
    "    & ~dff.product_name.str.contains('smoothie') & ~dff.product_name.str.contains('special k')\n",
    "    & ~dff.product_name.str.contains('snack') & ~dff.product_name.str.contains('snap')\n",
    "    & ~dff.product_name.str.contains('delight') & ~dff.product_name.str.contains('soup')\n",
    "    & ~dff.product_name.str.contains('twist') & ~dff.product_name.str.contains('crumble')\n",
    "    & ~dff.product_name.str.contains('maraschino') & ~dff.product_name.str.contains('marmalade')\n",
    "    & ~dff.product_name.str.contains('square')\n",
    "                                     \n",
    "                                    )\n",
    "        , 'product_name'])"
   ]
  },
  {
   "cell_type": "code",
   "execution_count": null,
   "metadata": {
    "collapsed": true
   },
   "outputs": [],
   "source": [
    "set(dff.loc[(dff.product_name.str.contains('sauerkraut') \n",
    "    ) \n",
    "    &\n",
    "    (~dff.product_name.str.contains('awejioewjg') \n",
    "    )\n",
    "            , 'product_name'])\n"
   ]
  },
  {
   "cell_type": "code",
   "execution_count": null,
   "metadata": {
    "collapsed": true
   },
   "outputs": [],
   "source": [
    "set(dff.loc[(dff.product_name.str.contains('tomato') | dff.product_name.str.contains('spinach')\n",
    "    | dff.product_name.str.contains('kale') | dff.product_name.str.contains('carrot')\n",
    "    | dff.product_name.str.contains('artichoke') | dff.product_name.str.contains('mushroom')        \n",
    "    | dff.product_name.str.contains('broccoli') | dff.product_name.str.contains('chard') \n",
    "    | dff.product_name.str.contains('asparagus') | dff.product_name.str.contains('beet')\n",
    "    | dff.product_name.str.contains('pepper') | dff.product_name.str.contains('chard')\n",
    "    | dff.product_name.str.contains('edamame') | dff.product_name.str.contains('pumpkin')\n",
    "    | dff.product_name.str.contains('cauliflower') | dff.product_name.str.contains('chard')\n",
    "    | dff.product_name.str.contains('cilantro') | dff.product_name.str.contains('sweet potato')         \n",
    "    | dff.product_name.str.contains('pumpkin') | dff.product_name.str.contains('sprout')\n",
    "    | dff.product_name.str.contains('onion') | dff.product_name.str.contains('garlic') \n",
    "    | dff.product_name.str.contains('sauerkraut') \n",
    "             \n",
    "            )\n",
    "    &\n",
    "    (~dff.product_name.str.contains('juice') & ~dff.product_name.str.contains('chip')\n",
    "    & ~dff.product_name.str.contains('ravioli') & ~dff.product_name.str.contains('cake')\n",
    "    & ~dff.product_name.str.contains('soup') & ~dff.product_name.str.contains('pasta')\n",
    "    & ~dff.product_name.str.contains('fettucine') & ~dff.product_name.str.contains('cream')\n",
    "    & ~dff.product_name.str.contains('sauce') & ~dff.product_name.str.contains('penne')\n",
    "    & ~dff.product_name.str.contains('wrap') & ~dff.product_name.str.contains('ketchup')\n",
    "    & ~dff.product_name.str.contains('puff') & ~dff.product_name.str.contains('sausage')\n",
    "    & ~dff.product_name.str.contains('pizza') & ~dff.product_name.str.contains('popcorn')\n",
    "    & ~dff.product_name.str.contains('cookie') & ~dff.product_name.str.contains('wafer')\n",
    "    & ~dff.product_name.str.contains('ring') & ~dff.product_name.str.contains('frie')\n",
    "    & ~dff.product_name.str.contains('pretzel') & ~dff.product_name.str.contains('crisp')\n",
    "    & ~dff.product_name.str.contains('bar') & ~dff.product_name.str.contains('stick')\n",
    "    & ~dff.product_name.str.contains('cocktail') & ~dff.product_name.str.contains('cracker')\n",
    "    & ~dff.product_name.str.contains('dressing') & ~dff.product_name.str.contains('bite')\n",
    "    & ~dff.product_name.str.contains('bread') & ~dff.product_name.str.contains('rind')\n",
    "    & ~dff.product_name.str.contains('toast') & ~dff.product_name.str.contains('granola')\n",
    "    & ~dff.product_name.str.contains('tortilla') & ~dff.product_name.str.contains('dip')\n",
    "    & ~dff.product_name.str.contains('patties') & ~dff.product_name.str.contains('patty')\n",
    "    & ~dff.product_name.str.contains('roll') & ~dff.product_name.str.contains('muffin')\n",
    "    & ~dff.product_name.str.contains('salsa') & ~dff.product_name.str.contains('loaf')\n",
    "    & ~dff.product_name.str.contains('snack') & ~dff.product_name.str.contains('bagel')\n",
    "    & ~dff.product_name.str.contains('flour') & ~dff.product_name.str.contains('bun')\n",
    "    & ~dff.product_name.str.contains('fudge') & ~dff.product_name.str.contains('brownie')\n",
    "    & ~dff.product_name.str.contains('candy') & ~dff.product_name.str.contains('paste')\n",
    "    & ~dff.product_name.str.contains('knot') & ~dff.product_name.str.contains('naan')\n",
    "    & ~dff.product_name.str.contains('seasoning') & ~dff.product_name.str.contains('macaroni')\n",
    "    & ~dff.product_name.str.contains('creme') & ~dff.product_name.str.contains('trail mix')\n",
    "    & ~dff.product_name.str.contains('baguette') & ~dff.product_name.str.contains('donut')\n",
    "    & ~dff.product_name.str.contains('chocolate') & ~dff.product_name.str.contains('cheese')\n",
    "    & ~dff.product_name.str.contains('burger') & ~dff.product_name.str.contains('pie')\n",
    "    & ~dff.product_name.str.contains('risotto') & ~dff.product_name.str.contains('sandwich')\n",
    "    ), 'product_name'])"
   ]
  },
  {
   "cell_type": "code",
   "execution_count": null,
   "metadata": {
    "collapsed": true
   },
   "outputs": [],
   "source": [
    "# clean out fruits with savory\n",
    "set(dff.loc[(dff.product_name.str.contains('lemon') | dff.product_name.str.contains('lime')\n",
    "    | dff.product_name.str.contains('apple') | dff.product_name.str.contains('avocado') )\n",
    "    &\n",
    "    (~dff.product_name.str.contains('cookie') & ~dff.product_name.str.contains('cake')\n",
    "    & ~dff.product_name.str.contains('chip') & ~dff.product_name.str.contains('noodle soup')\n",
    "    & ~dff.product_name.str.contains('dessert') & ~dff.product_name.str.contains('drink mix')\n",
    "    & ~dff.product_name.str.contains('pie') & ~dff.product_name.str.contains('ice cream')\n",
    "    & ~dff.product_name.str.contains('kake') & ~dff.product_name.str.contains('wafer')\n",
    "    & ~dff.product_name.str.contains('ramen') & ~dff.product_name.str.contains('drop')\n",
    "    & ~dff.product_name.str.contains('macaroon') & ~dff.product_name.str.contains('macaron')\n",
    "    & ~dff.product_name.str.contains('tart') & ~dff.product_name.str.contains('lemonade')  \n",
    "    & ~dff.product_name.str.contains('vinaigrette') & ~dff.product_name.str.contains('salsa')\n",
    "    & ~dff.product_name.str.contains('cereal') & ~dff.product_name.str.contains('snack')\n",
    "    & ~dff.product_name.str.contains('bagel') & ~dff.product_name.str.contains('sausage')\n",
    "    & ~dff.product_name.str.contains('bacon') & ~dff.product_name.str.contains('bar')\n",
    "    & ~dff.product_name.str.contains('crisp') & ~dff.product_name.str.contains('nectar')\n",
    "    & ~dff.product_name.str.contains('danish') & ~dff.product_name.str.contains('streusel')\n",
    "    & ~dff.product_name.str.contains('crunch') & ~dff.product_name.str.contains('dressing')        \n",
    "    & ~dff.product_name.str.contains('granola') & ~dff.product_name.str.contains('roll')\n",
    "    & ~dff.product_name.str.contains('milk chocolate') & ~dff.product_name.str.contains('donut')\n",
    "    & ~dff.product_name.str.contains('taco') & ~dff.product_name.str.contains('cracker')\n",
    "    & ~dff.product_name.str.contains('pretzel') & ~dff.product_name.str.contains('thin')\n",
    "    & ~dff.product_name.str.contains('flour') & ~dff.product_name.str.contains('bread')\n",
    "    & ~dff.product_name.str.contains('smoothie') & ~dff.product_name.str.contains('juice')\n",
    "    & ~dff.product_name.str.contains('sauce') & ~dff.product_name.str.contains('cobbler')\n",
    "    & ~dff.product_name.str.contains('pasta')      \n",
    "                                     \n",
    "                                    )                             , 'product_name'])"
   ]
  },
  {
   "cell_type": "code",
   "execution_count": null,
   "metadata": {
    "collapsed": true
   },
   "outputs": [],
   "source": [
    "dff.loc[(dff.product_name.str.contains('brazil nut') \n",
    "    ) \n",
    "    &\n",
    "    (~dff.product_name.str.contains('crackers') \n",
    "    )\n",
    "            , 'healthy']"
   ]
  },
  {
   "cell_type": "code",
   "execution_count": null,
   "metadata": {
    "collapsed": true
   },
   "outputs": [],
   "source": [
    "set(dff.loc[(dff.product_name.str.contains('salmon') | dff.product_name.str.contains('turkey')\n",
    "    | dff.product_name.str.contains('herring') | dff.product_name.str.contains('sardine')\n",
    "    | dff.product_name.str.contains('mackerel') | dff.product_name.str.contains('egg')                     \n",
    "            )\n",
    "    &\n",
    "    (~dff.product_name.str.contains('chip') & ~dff.product_name.str.contains('dip')\n",
    "     & ~dff.product_name.str.contains('candied') & ~dff.product_name.str.contains('noodle')\n",
    "     & ~dff.product_name.str.contains('veggie') & ~dff.product_name.str.contains('chiips')\n",
    "     & ~dff.product_name.str.contains('croissant') & ~dff.product_name.str.contains('sandwich')\n",
    "     & ~dff.product_name.str.contains('fettucine') & ~dff.product_name.str.contains('sausage')\n",
    "     & ~dff.product_name.str.contains('wrap') & ~dff.product_name.str.contains('stuffing')\n",
    "     & ~dff.product_name.str.contains('fettucine') & ~dff.product_name.str.contains('sausage')\n",
    "     & ~dff.product_name.str.contains('pasta') & ~dff.product_name.str.contains('macaroni')\n",
    "     & ~dff.product_name.str.contains('salad') & ~dff.product_name.str.contains('bun')\n",
    "     & ~dff.product_name.str.contains('gravy') & ~dff.product_name.str.contains('bologna')\n",
    "     & ~dff.product_name.str.contains('bacon') & ~dff.product_name.str.contains('ham')\n",
    "     & ~dff.product_name.str.contains('sauce') & ~dff.product_name.str.contains('cream')\n",
    "    ), 'product_name'])"
   ]
  },
  {
   "cell_type": "code",
   "execution_count": null,
   "metadata": {
    "collapsed": true
   },
   "outputs": [],
   "source": [
    "set(dff.loc[(dff.product_name.str.contains('quinoa') | dff.product_name.str.contains('flax')\n",
    "    | dff.product_name.str.contains('chia') | dff.product_name.str.contains('oat')\n",
    "    | dff.product_name.str.contains('lentil') | dff.product_name.str.contains('greek yogurt')\n",
    "    | dff.product_name.str.contains('barley') | dff.product_name.str.contains('pistachio') \n",
    "    | dff.product_name.str.contains('almond') | dff.product_name.str.contains('bean') \n",
    "    | dff.product_name.str.contains('hemp') | dff.product_name.str.contains('walnut')\n",
    "    | dff.product_name.str.contains('soy') | dff.product_name.str.contains('brazil nut') \n",
    "    | dff.product_name.str.contains('goji') | dff.product_name.str.contains('dark chocolate')\n",
    "    | dff.product_name.str.contains('olive oil') | dff.product_name.str.contains('buckwheat') \n",
    "    | dff.product_name.str.contains('turmeric')\n",
    "            )\n",
    "    &\n",
    "    (~dff.product_name.str.contains('cheerios') & ~dff.product_name.str.contains('patties')\n",
    "     & ~dff.product_name.str.contains('graham') & ~dff.product_name.str.contains('cereal')\n",
    "     & ~dff.product_name.str.contains('marshmallow') & ~dff.product_name.str.contains('cookie')\n",
    "     & ~dff.product_name.str.contains('creamer') & ~dff.product_name.str.contains('bar')\n",
    "     & ~dff.product_name.str.contains('trail mix') & ~dff.product_name.str.contains('fudge')\n",
    "     & ~dff.product_name.str.contains('pretzel') & ~dff.product_name.str.contains('cake')\n",
    "     & ~dff.product_name.str.contains('bread') & ~dff.product_name.str.contains('chips')\n",
    "     & ~dff.product_name.str.contains('muffin') & ~dff.product_name.str.contains('granola')\n",
    "     & ~dff.product_name.str.contains('bun') & ~dff.product_name.str.contains('sauce')\n",
    "     & ~dff.product_name.str.contains('sugar') & ~dff.product_name.str.contains('fried')\n",
    "     & ~dff.product_name.str.contains('muffin') & ~dff.product_name.str.contains('granola')\n",
    "     & ~dff.product_name.str.contains('ice cream') & ~dff.product_name.str.contains('square')\n",
    "     & ~dff.product_name.str.contains('dressing') & ~dff.product_name.str.contains('waffle')\n",
    "     & ~dff.product_name.str.contains('mayo') & ~dff.product_name.str.contains('vanilla')\n",
    "     & ~dff.product_name.str.contains('ice cream') & ~dff.product_name.str.contains('square')\n",
    "     & ~dff.product_name.str.contains('bacon') & ~dff.product_name.str.contains('honey')\n",
    "     & ~dff.product_name.str.contains('baked bean') & ~dff.product_name.str.contains('burger')\n",
    "     & ~dff.product_name.str.contains('creme') & ~dff.product_name.str.contains('gelato')\n",
    "     & ~dff.product_name.str.contains('cracker') & ~dff.product_name.str.contains('cobbler')\n",
    "     & ~dff.product_name.str.contains('roll') & ~dff.product_name.str.contains('biscuit')\n",
    "     & ~dff.product_name.str.contains('pudding') & ~dff.product_name.str.contains('pie')\n",
    "     & ~dff.product_name.str.contains('candy') & ~dff.product_name.str.contains('tequila')\n",
    "     & ~dff.product_name.str.contains('biscotti') & ~dff.product_name.str.contains('brownie')\n",
    "     & ~dff.product_name.str.contains('ice cream') & ~dff.product_name.str.contains('scone')\n",
    "     & ~dff.product_name.str.contains('caramel') & ~dff.product_name.str.contains('dip')\n",
    "    ), 'product_name'])"
   ]
  },
  {
   "cell_type": "code",
   "execution_count": null,
   "metadata": {
    "collapsed": true
   },
   "outputs": [],
   "source": [
    "set(dff.countries_en)"
   ]
  },
  {
   "cell_type": "code",
   "execution_count": null,
   "metadata": {
    "collapsed": true
   },
   "outputs": [],
   "source": [
    "dff.counts()"
   ]
  },
  {
   "cell_type": "code",
   "execution_count": null,
   "metadata": {
    "collapsed": true
   },
   "outputs": [],
   "source": [
    "from sklearn.cross_validation import train_test_split\n",
    "from sklearn.neighbors import KNeighborsClassifier\n",
    "from sklearn.linear_model import LogisticRegression\n",
    "from sklearn.naive_bayes import GaussianNB \n",
    "from sklearn.svm import SVC\n",
    "from sklearn.tree import DecisionTreeClassifier\n",
    "from sklearn.ensemble import RandomForestClassifier\n",
    "from sklearn import metrics\n",
    "from sklearn.metrics import accuracy_score\n",
    "\n",
    "X = dff.iloc[:, 3:]\n",
    "X = X.iloc[:,1:].apply(lambda x: x.fillna(round(x.median(),0)),axis=0)\n",
    "y = dff.healthy\n",
    "\n",
    "X_train, X_test, y_train, y_test = train_test_split(X, y, test_size=.3, random_state=4444)"
   ]
  },
  {
   "cell_type": "code",
   "execution_count": null,
   "metadata": {
    "collapsed": true
   },
   "outputs": [],
   "source": [
    "def summary_stats(clf):\n",
    "    clf.fit(X_train, y_train)\n",
    "    y_pred = clf.predict(X_test)\n",
    "    print('Accuracy - %.3f' % accuracy_score(y_test, y_pred))\n",
    "    print('Precision - %.3f' % metrics.precision_score(y_test, y_pred, average = 'macro'))\n",
    "    print('Recall - %.3f' % metrics.recall_score(y_test, y_pred, average = 'macro'))\n",
    "    print('F1 score - %.3f' % metrics.f1_score(y_test, y_pred, average = 'macro'))\n",
    "    print('\\n')"
   ]
  },
  {
   "cell_type": "code",
   "execution_count": null,
   "metadata": {
    "collapsed": true
   },
   "outputs": [],
   "source": [
    "print('kNN')\n",
    "summary_stats(KNeighborsClassifier(3))\n",
    "\n",
    "print('Logistic Regression')\n",
    "summary_stats(LogisticRegression())\n",
    "\n",
    "print('Gaussian Naive Bayes')\n",
    "summary_stats(GaussianNB())\n",
    "\n",
    "print('SVC')\n",
    "summary_stats(SVC())\n",
    "\n",
    "print('Decision Tree')\n",
    "summary_stats(DecisionTreeClassifier())\n",
    "\n",
    "print('Random Forest')\n",
    "summary_stats(RandomForestClassifier())"
   ]
  },
  {
   "cell_type": "code",
   "execution_count": null,
   "metadata": {
    "collapsed": true
   },
   "outputs": [],
   "source": [
    "dff.count().sort_values(ascending = False)"
   ]
  },
  {
   "cell_type": "code",
   "execution_count": null,
   "metadata": {
    "collapsed": true
   },
   "outputs": [],
   "source": [
    "clf = KNeighborsClassifier(3)\n",
    "clf.fit(X_train, y_train)\n",
    "y_pred = clf.predict(X_test)"
   ]
  },
  {
   "cell_type": "code",
   "execution_count": null,
   "metadata": {
    "collapsed": true
   },
   "outputs": [],
   "source": [
    "dff.loc[X_test.index,'product_name']"
   ]
  },
  {
   "cell_type": "code",
   "execution_count": null,
   "metadata": {
    "collapsed": true
   },
   "outputs": [],
   "source": [
    "dff.groupby('countries_en')['countries_en'].count().sort_values(ascending = False)"
   ]
  },
  {
   "cell_type": "code",
   "execution_count": null,
   "metadata": {
    "collapsed": true
   },
   "outputs": [],
   "source": []
  }
 ],
 "metadata": {
  "kernelspec": {
   "display_name": "Python 3",
   "language": "python",
   "name": "python3"
  },
  "language_info": {
   "codemirror_mode": {
    "name": "ipython",
    "version": 3
   },
   "file_extension": ".py",
   "mimetype": "text/x-python",
   "name": "python",
   "nbconvert_exporter": "python",
   "pygments_lexer": "ipython3",
   "version": "3.6.1"
  }
 },
 "nbformat": 4,
 "nbformat_minor": 2
}
